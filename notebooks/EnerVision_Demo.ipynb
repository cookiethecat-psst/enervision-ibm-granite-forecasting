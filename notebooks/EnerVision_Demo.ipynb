# EnerVision Demo Notebook - Proposal Phase
# IndiaAI Impact Hackathon 2025

import numpy as np
import pandas as pd
import matplotlib.pyplot as plt
from src.enervision.models.ttm_core import EnerVisionTTM, IndianBuildingAdapter, TTMConfig
import asyncio

# Configuration
API_KEY = "7d2qZqET-QBEVzxakf3vsXAWLWY0ZmcQ1fXDFAfmmPd_"
PROJECT_ID = "3ce2bb8d-664b-4288-b80e-5d505088cee9"

# Initialize EnerVision TTM
print("Initializing EnerVision TTM...")
config = TTMConfig()
enervision = EnerVisionTTM(API_KEY, PROJECT_ID, config)

# Initialize Indian Context Adapter
indian_adapter = IndianBuildingAdapter()

# Generate sample building data
print("Generating sample data for Indian commercial building...")
def generate_sample_data(days=30):
    """Generate sample energy consumption data"""
    timestamps = pd.date_range(end=pd.Timestamp.now(), periods=days*24, freq='H')
    base_consumption = 100  # kW base load
    
    # Daily pattern (peak during day, lower at night)
    daily_pattern = 50 * np.sin(2 * np.pi * np.arange(24) / 24) + 50
    
    # Weekly pattern (lower on weekends)
    weekly_pattern = np.array([1.0, 1.0, 1.0, 1.0, 1.0, 0.7, 0.6])
    
    consumption = []
    for i in range(len(timestamps)):
        hour = timestamps[i].hour
        day = timestamps[i].dayofweek
        consumption.append(base_consumption + daily_pattern[hour] * weekly_pattern[day])
    
    # Add some noise
    noise = 10 * np.random.randn(len(consumption))
    consumption = np.array(consumption) + noise
    
    return {
        'timestamps': timestamps,
        'consumption': consumption,
        'frequency': 'H'
    }

sample_data = generate_sample_data(60)  # 60 days of data

# Extract Indian context features
building_metadata = {
    'location': 'Bangalore, Karnataka',
    'building_type': 'it_campus',
    'area_sqft': 50000,
    'occupancy': '24/7'
}

indian_context = indian_adapter.extract_indian_context(building_metadata)
print(f"Indian Context Features: {indian_context}")

# Prepare data for forecasting
forecast_data = {
    'consumption': sample_data['consumption'],
    'contextual_features': indian_context,
    'frequency': sample_data['frequency']
}

# Generate forecast
print("Generating 24-hour forecast...")
async def run_forecast():
    result = await enervision.forecast_energy_load(forecast_data, horizon='24h')
    return result

# Run async forecast
forecast_result = asyncio.run(run_forecast())

# Display results
print("\nForecast Results:")
print(f"Status: {forecast_result['status']}")
print(f"Selected Model: {forecast_result['selected_model']}")
print(f"Horizon: {forecast_result['horizon']}")

if forecast_result['status'] == 'success':
    # Plot results
    plt.figure(figsize=(12, 6))
    
    # Historical data
    historical_hours = 72  # Last 3 days
    historical = sample_data['consumption'][-historical_hours:]
    historical_timestamps = sample_data['timestamps'][-historical_hours:]
    
    # Forecast data
    forecast = forecast_result['forecast']
    confidence_lower = forecast_result['confidence_intervals']['lower']
    confidence_upper = forecast_result['confidence_intervals']['upper']
    
    forecast_timestamps = pd.date_range(
        start=historical_timestamps[-1] + pd.Timedelta(hours=1),
        periods=len(forecast),
        freq='H'
    )
    
    # Plot historical data
    plt.plot(historical_timestamps, historical, 'b-', label='Historical', linewidth=2)
    
    # Plot forecast
    plt.plot(forecast_timestamps, forecast, 'r-', label='Forecast', linewidth=2)
    plt.fill_between(forecast_timestamps, confidence_lower, confidence_upper, 
                    color='red', alpha=0.2, label='Confidence Interval')
    
    plt.title('EnerVision - 24-Hour Energy Load Forecast\n(Bangalore IT Campus)')
    plt.xlabel('Time')
    plt.ylabel('Energy Consumption (kW)')
    plt.legend()
    plt.grid(True, alpha=0.3)
    plt.xticks(rotation=45)
    plt.tight_layout()
    plt.show()
    
    # Print forecast statistics
    print(f"\nForecast Statistics:")
    print(f"Peak Demand: {max(forecast):.1f} kW")
    print(f"Average Demand: {np.mean(forecast):.1f} kW")
    print(f"Forecast Range: {min(forecast):.1f} - {max(forecast):.1f} kW")
    
else:
    print(f"Error: {forecast_result['message']}")

# Demonstrate Indian context adaptation
print("\n" + "="*50)
print("INDIAN CONTEXT ADAPTATION DEMONSTRATION")
print("="*50)

locations = ['Bangalore', 'Mumbai', 'Delhi', 'Chennai']
building_types = ['it_campus', 'commercial', 'educational']

for location in locations:
    for b_type in building_types:
        metadata = {'location': location, 'building_type': b_type}
        context = indian_adapter.extract_indian_context(metadata)
        print(f"Location: {location:15} | Type: {b_type:12} | "
              f"Climate: {context['climate_zone']:10} | "
              f"Festival Impact: {context['festival_impact']:.2f}")

print("\nDemo completed successfully! ✅")